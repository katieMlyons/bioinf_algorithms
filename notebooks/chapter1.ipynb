{
 "cells": [
  {
   "cell_type": "markdown",
   "metadata": {
    "collapsed": false
   },
   "source": [
    "# Helper functions for finding the replication origin"
   ]
  },
  {
   "cell_type": "code",
   "execution_count": 1,
   "metadata": {
    "ExecuteTime": {
     "end_time": "2023-07-29T01:31:09.183181100Z",
     "start_time": "2023-07-29T01:31:09.140801400Z"
    },
    "collapsed": false
   },
   "outputs": [],
   "source": [
    "from src import ori\n",
    "import time"
   ]
  },
  {
   "cell_type": "code",
   "execution_count": 2,
   "metadata": {
    "ExecuteTime": {
     "end_time": "2023-07-29T01:31:27.744891800Z",
     "start_time": "2023-07-29T01:31:27.706098300Z"
    },
    "collapsed": false
   },
   "outputs": [
    {
     "name": "stdout",
     "output_type": "stream",
     "text": [
      "2\n"
     ]
    }
   ],
   "source": [
    "#The pattern_count function counts the amount of times a pattern is repeated in a string, including overlaps\n",
    "DNAstring = \"GCGCG\"\n",
    "target = \"GCG\"\n",
    "print(ori.pattern_count(DNAstring,target))"
   ]
  },
  {
   "cell_type": "code",
   "execution_count": 3,
   "metadata": {
    "ExecuteTime": {
     "end_time": "2023-07-29T01:31:38.644942100Z",
     "start_time": "2023-07-29T01:31:38.634165800Z"
    },
    "collapsed": false
   },
   "outputs": [
    {
     "name": "stdout",
     "output_type": "stream",
     "text": [
      "['GCAT', 'CATG']\n",
      "CPU Execution time 0.0010013580322265625 seconds\n"
     ]
    }
   ],
   "source": [
    "#The most_frequent function references pattern_count to return a list of the kmers of maximum frequency for a pattern and k\n",
    "#k-window over pattern, adds dictionary entry for kmers that haven't been counted yet, pulls entries with max value\n",
    "DNAstring=\"ACGTTGCATGTCGCATGATGCATGAGAGCT\"\n",
    "k=4\n",
    "st = time.time()\n",
    "print(ori.most_frequent(DNAstring,k))\n",
    "et = time.time()\n",
    "print('CPU Execution time', et-st, 'seconds')"
   ]
  },
  {
   "cell_type": "code",
   "execution_count": 4,
   "metadata": {
    "ExecuteTime": {
     "end_time": "2023-07-29T01:32:01.412809300Z",
     "start_time": "2023-07-29T01:32:01.389810500Z"
    },
    "collapsed": false
   },
   "outputs": [
    {
     "name": "stdout",
     "output_type": "stream",
     "text": [
      "{'ACGT': 1, 'CGTT': 1, 'GTTG': 1, 'TTGC': 1, 'TGCA': 2, 'GCAT': 3, 'CATG': 3, 'ATGT': 1, 'TGTC': 1, 'GTCG': 1, 'TCGC': 1, 'CGCA': 1, 'ATGA': 2, 'TGAT': 1, 'GATG': 1, 'ATGC': 1, 'TGAG': 1, 'GAGA': 1, 'AGAG': 1, 'GAGC': 1, 'AGCT': 1}\n"
     ]
    }
   ],
   "source": [
    "# A helper function can speed up finding the most frequent kmers\n",
    "# frequency_table slides a window of width k over the pattern once and initializes or adds one to the dict value for each kmer\n",
    "print(ori.frequency_table(DNAstring,k))"
   ]
  },
  {
   "cell_type": "code",
   "execution_count": 5,
   "metadata": {
    "ExecuteTime": {
     "end_time": "2023-07-29T01:32:08.242774300Z",
     "start_time": "2023-07-29T01:32:08.209680500Z"
    },
    "collapsed": false
   },
   "outputs": [
    {
     "name": "stdout",
     "output_type": "stream",
     "text": [
      "['GCAT', 'CATG']\n",
      "CPU Execution time 0.0010001659393310547 seconds\n"
     ]
    }
   ],
   "source": [
    "#faster function uses frequency_table helper function\n",
    "DNAstring=\"ACGTTGCATGTCGCATGATGCATGAGAGCT\"\n",
    "k=4\n",
    "st = time.time()\n",
    "print(ori.better_frequent_kmer(DNAstring,k))\n",
    "et = time.time()\n",
    "print('CPU Execution time', et-st, 'seconds')"
   ]
  },
  {
   "cell_type": "code",
   "execution_count": 6,
   "metadata": {
    "ExecuteTime": {
     "end_time": "2023-07-29T01:33:31.009912800Z",
     "start_time": "2023-07-29T01:33:30.980240800Z"
    },
    "collapsed": false
   },
   "outputs": [
    {
     "data": {
      "text/plain": [
       "'ACCGGGTTTT'"
      ]
     },
     "execution_count": 6,
     "metadata": {},
     "output_type": "execute_result"
    }
   ],
   "source": [
    "#reverse complement function can operate on DNA strings\n",
    "ori.reverse_complement('AAAACCCGGT')"
   ]
  },
  {
   "cell_type": "code",
   "execution_count": 7,
   "metadata": {
    "ExecuteTime": {
     "end_time": "2023-07-29T01:33:35.830154600Z",
     "start_time": "2023-07-29T01:33:35.806791200Z"
    },
    "collapsed": false
   },
   "outputs": [
    {
     "data": {
      "text/plain": [
       "[1, 3, 9]"
      ]
     },
     "execution_count": 7,
     "metadata": {},
     "output_type": "execute_result"
    }
   ],
   "source": [
    "#return list of indices at which a pattern is found in a DNA string\n",
    "ori.pattern_index('GATATATGCATATACTT','ATAT')"
   ]
  },
  {
   "cell_type": "markdown",
   "metadata": {
    "collapsed": false
   },
   "source": [
    "Probability of a pattern in a string."
   ]
  }
 ],
 "metadata": {
  "kernelspec": {
   "display_name": "base",
   "language": "python",
   "name": "python3"
  },
  "language_info": {
   "codemirror_mode": {
    "name": "ipython",
    "version": 2
   },
   "file_extension": ".py",
   "mimetype": "text/x-python",
   "name": "python",
   "nbconvert_exporter": "python",
   "pygments_lexer": "ipython2",
   "version": "3.11.5"
  }
 },
 "nbformat": 4,
 "nbformat_minor": 0
}
