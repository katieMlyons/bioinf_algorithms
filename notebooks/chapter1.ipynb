{
 "cells": [
  {
   "cell_type": "markdown",
   "source": [
    "# Helper functions for finding the replication origin"
   ],
   "metadata": {
    "collapsed": false
   }
  },
  {
   "cell_type": "code",
   "execution_count": 9,
   "outputs": [],
   "source": [
    "from src import ori\n",
    "import time"
   ],
   "metadata": {
    "collapsed": false
   }
  },
  {
   "cell_type": "code",
   "execution_count": 2,
   "outputs": [
    {
     "name": "stdout",
     "output_type": "stream",
     "text": [
      "2\n"
     ]
    }
   ],
   "source": [
    "#The pattern_count function counts the amount of times a pattern is repeated in a string, including overlaps\n",
    "DNAstring = \"GCGCG\"\n",
    "target = \"GCG\"\n",
    "print(ori.pattern_count(DNAstring,target))"
   ],
   "metadata": {
    "collapsed": false
   }
  },
  {
   "cell_type": "code",
   "execution_count": 3,
   "outputs": [
    {
     "name": "stdout",
     "output_type": "stream",
     "text": [
      "['GCAT', 'CATG']\n",
      "CPU Execution time 0.0 seconds\n"
     ]
    }
   ],
   "source": [
    "#The most_frequent function references pattern_count to return a list of the kmers of maximum frequency for a pattern and k\n",
    "#k-window over pattern, adds dictionary entry for kmers that haven't been counted yet, pulls entries with max value\n",
    "DNAstring=\"ACGTTGCATGTCGCATGATGCATGAGAGCT\"\n",
    "k=4\n",
    "st = time.time()\n",
    "print(ori.most_frequent(DNAstring,k))\n",
    "et = time.time()\n",
    "print('CPU Execution time', et-st, 'seconds')"
   ],
   "metadata": {
    "collapsed": false
   }
  },
  {
   "cell_type": "code",
   "execution_count": 4,
   "outputs": [
    {
     "name": "stdout",
     "output_type": "stream",
     "text": [
      "{'ACGT': 1, 'CGTT': 1, 'GTTG': 1, 'TTGC': 1, 'TGCA': 2, 'GCAT': 3, 'CATG': 3, 'ATGT': 1, 'TGTC': 1, 'GTCG': 1, 'TCGC': 1, 'CGCA': 1, 'ATGA': 2, 'TGAT': 1, 'GATG': 1, 'ATGC': 1, 'TGAG': 1, 'GAGA': 1, 'AGAG': 1, 'GAGC': 1, 'AGCT': 1}\n"
     ]
    }
   ],
   "source": [
    "# A helper function can speed up finding the most frequent kmers\n",
    "# frequency_table slides a window of width k over the pattern once and initializes or adds one to the dict value for each kmer\n",
    "print(ori.frequency_table(DNAstring,k))"
   ],
   "metadata": {
    "collapsed": false
   }
  },
  {
   "cell_type": "code",
   "execution_count": 5,
   "outputs": [
    {
     "name": "stdout",
     "output_type": "stream",
     "text": [
      "['GCAT', 'CATG']\n",
      "CPU Execution time 0.0 seconds\n"
     ]
    }
   ],
   "source": [
    "#faster function uses frequency_table helper function\n",
    "DNAstring=\"ACGTTGCATGTCGCATGATGCATGAGAGCT\"\n",
    "k=4\n",
    "st = time.time()\n",
    "print(ori.better_frequent_kmer(DNAstring,k))\n",
    "et = time.time()\n",
    "print('CPU Execution time', et-st, 'seconds')"
   ],
   "metadata": {
    "collapsed": false
   }
  },
  {
   "cell_type": "code",
   "execution_count": 6,
   "outputs": [
    {
     "data": {
      "text/plain": "'ACCGGGTTTT'"
     },
     "execution_count": 6,
     "metadata": {},
     "output_type": "execute_result"
    }
   ],
   "source": [
    "#reverse complement function can operate on DNA strings\n",
    "ori.reverse_complement('AAAACCCGGT')"
   ],
   "metadata": {
    "collapsed": false
   }
  },
  {
   "cell_type": "code",
   "execution_count": 12,
   "outputs": [
    {
     "name": "stdout",
     "output_type": "stream",
     "text": [
      "1 3 9 \n",
      "\n"
     ]
    }
   ],
   "source": [
    "#return list of indices at which a pattern is found in a DNA string\n",
    "ori.pattern_index('GATATATGCATATACTT','ATAT')"
   ],
   "metadata": {
    "collapsed": false
   }
  },
  {
   "cell_type": "code",
   "execution_count": null,
   "outputs": [],
   "source": [],
   "metadata": {
    "collapsed": false
   }
  }
 ],
 "metadata": {
  "kernelspec": {
   "display_name": "Python 3",
   "language": "python",
   "name": "python3"
  },
  "language_info": {
   "codemirror_mode": {
    "name": "ipython",
    "version": 2
   },
   "file_extension": ".py",
   "mimetype": "text/x-python",
   "name": "python",
   "nbconvert_exporter": "python",
   "pygments_lexer": "ipython2",
   "version": "2.7.6"
  }
 },
 "nbformat": 4,
 "nbformat_minor": 0
}
