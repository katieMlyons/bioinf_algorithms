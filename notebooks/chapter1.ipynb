{
 "cells": [
  {
   "cell_type": "markdown",
   "metadata": {
    "collapsed": false
   },
   "source": [
    "# Helper functions for finding the replication origin"
   ]
  },
  {
   "cell_type": "code",
   "execution_count": 5,
   "metadata": {},
   "outputs": [
    {
     "name": "stdout",
     "output_type": "stream",
     "text": [
      "The autoreload extension is already loaded. To reload it, use:\n",
      "  %reload_ext autoreload\n"
     ]
    }
   ],
   "source": [
    "%load_ext autoreload\n",
    "%autoreload 1"
   ]
  },
  {
   "cell_type": "code",
   "execution_count": 13,
   "metadata": {},
   "outputs": [],
   "source": [
    "%aimport src.ori"
   ]
  },
  {
   "cell_type": "code",
   "execution_count": 7,
   "metadata": {
    "ExecuteTime": {
     "end_time": "2023-07-29T01:31:09.183181100Z",
     "start_time": "2023-07-29T01:31:09.140801400Z"
    },
    "collapsed": false
   },
   "outputs": [],
   "source": [
    "import time"
   ]
  },
  {
   "cell_type": "code",
   "execution_count": 20,
   "metadata": {
    "ExecuteTime": {
     "end_time": "2023-07-29T01:31:27.744891800Z",
     "start_time": "2023-07-29T01:31:27.706098300Z"
    },
    "collapsed": false
   },
   "outputs": [
    {
     "name": "stdout",
     "output_type": "stream",
     "text": [
      "2\n"
     ]
    }
   ],
   "source": [
    "#The pattern_count function counts the amount of times a pattern is repeated in a string, including overlaps\n",
    "DNAstring = \"GCGCG\"\n",
    "target = \"GCG\"\n",
    "print(src.ori.pattern_count(DNAstring,target))"
   ]
  },
  {
   "cell_type": "code",
   "execution_count": 21,
   "metadata": {},
   "outputs": [
    {
     "name": "stdout",
     "output_type": "stream",
     "text": [
      "5\n"
     ]
    }
   ],
   "source": [
    "print(src.ori.pattern_count('ATCCGATCCCATGCCCATG','CC'))"
   ]
  },
  {
   "cell_type": "code",
   "execution_count": null,
   "metadata": {
    "ExecuteTime": {
     "end_time": "2023-07-29T01:31:38.644942100Z",
     "start_time": "2023-07-29T01:31:38.634165800Z"
    },
    "collapsed": false
   },
   "outputs": [
    {
     "name": "stdout",
     "output_type": "stream",
     "text": [
      "['GCAT', 'CATG']\n",
      "CPU Execution time 0.0062351226806640625 seconds\n"
     ]
    }
   ],
   "source": [
    "#The most_frequent function references pattern_count to return a list of the kmers of maximum frequency for a pattern and k\n",
    "#k-window over pattern, adds dictionary entry for kmers that haven't been counted yet, pulls entries with max value\n",
    "DNAstring=\"ACGTTGCATGTCGCATGATGCATGAGAGCT\"\n",
    "k=4\n",
    "st = time.time()\n",
    "print(src.ori.most_frequent(DNAstring,k))\n",
    "et = time.time()\n",
    "print('CPU Execution time', et-st, 'seconds')"
   ]
  },
  {
   "cell_type": "code",
   "execution_count": 23,
   "metadata": {
    "ExecuteTime": {
     "end_time": "2023-07-29T01:32:01.412809300Z",
     "start_time": "2023-07-29T01:32:01.389810500Z"
    },
    "collapsed": false
   },
   "outputs": [
    {
     "name": "stdout",
     "output_type": "stream",
     "text": [
      "{'ACGT': 1, 'CGTT': 1, 'GTTG': 1, 'TTGC': 1, 'TGCA': 2, 'GCAT': 3, 'CATG': 3, 'ATGT': 1, 'TGTC': 1, 'GTCG': 1, 'TCGC': 1, 'CGCA': 1, 'ATGA': 2, 'TGAT': 1, 'GATG': 1, 'ATGC': 1, 'TGAG': 1, 'GAGA': 1, 'AGAG': 1, 'GAGC': 1, 'AGCT': 1}\n"
     ]
    }
   ],
   "source": [
    "# A helper function can speed up finding the most frequent kmers\n",
    "# frequency_table slides a window of width k over the pattern once and initializes or adds one to the dict value for each kmer\n",
    "print(src.ori.frequency_table(DNAstring,k))"
   ]
  },
  {
   "cell_type": "code",
   "execution_count": 24,
   "metadata": {
    "ExecuteTime": {
     "end_time": "2023-07-29T01:32:08.242774300Z",
     "start_time": "2023-07-29T01:32:08.209680500Z"
    },
    "collapsed": false
   },
   "outputs": [
    {
     "name": "stdout",
     "output_type": "stream",
     "text": [
      "['GCAT', 'CATG']\n",
      "CPU Execution time 0.0007672309875488281 seconds\n"
     ]
    }
   ],
   "source": [
    "#faster function uses frequency_table helper function\n",
    "DNAstring=\"ACGTTGCATGTCGCATGATGCATGAGAGCT\"\n",
    "k=4\n",
    "st = time.time()\n",
    "print(src.ori.better_frequent_kmer(DNAstring,k))\n",
    "et = time.time()\n",
    "print('CPU Execution time', et-st, 'seconds')"
   ]
  },
  {
   "cell_type": "code",
   "execution_count": 3,
   "metadata": {},
   "outputs": [],
   "source": [
    "with open('datasets/Vibrio_cholerae.txt') as file:\n",
    "          Vcholerae = file.read()"
   ]
  },
  {
   "cell_type": "code",
   "execution_count": 35,
   "metadata": {},
   "outputs": [
    {
     "name": "stdout",
     "output_type": "stream",
     "text": [
      "['GCGTTTGTT']\n",
      "CPU Execution time 1.4968757629394531 seconds\n"
     ]
    }
   ],
   "source": [
    "k=9\n",
    "st = time.time()\n",
    "print(src.ori.better_frequent_kmer(Vcholerae,k))\n",
    "et = time.time()\n",
    "print('CPU Execution time', et-st, 'seconds')"
   ]
  },
  {
   "cell_type": "code",
   "execution_count": 37,
   "metadata": {},
   "outputs": [
    {
     "name": "stdout",
     "output_type": "stream",
     "text": [
      "16\n"
     ]
    }
   ],
   "source": [
    "print(src.ori.pattern_count(Vcholerae, 'CTTGATCAT'))"
   ]
  },
  {
   "cell_type": "code",
   "execution_count": 28,
   "metadata": {
    "ExecuteTime": {
     "end_time": "2023-07-29T01:33:31.009912800Z",
     "start_time": "2023-07-29T01:33:30.980240800Z"
    },
    "collapsed": false
   },
   "outputs": [
    {
     "data": {
      "text/plain": [
       "'ACCGGGTTTT'"
      ]
     },
     "execution_count": 28,
     "metadata": {},
     "output_type": "execute_result"
    }
   ],
   "source": [
    "#reverse complement function can operate on DNA strings\n",
    "reverse_complement('AAAACCCGGT')"
   ]
  },
  {
   "cell_type": "code",
   "execution_count": 32,
   "metadata": {
    "ExecuteTime": {
     "end_time": "2023-07-29T01:33:35.830154600Z",
     "start_time": "2023-07-29T01:33:35.806791200Z"
    },
    "collapsed": false
   },
   "outputs": [
    {
     "data": {
      "text/plain": [
       "[1, 3, 9]"
      ]
     },
     "execution_count": 32,
     "metadata": {},
     "output_type": "execute_result"
    }
   ],
   "source": [
    "#return list of indices at which a pattern is found in a DNA string\n",
    "src.ori.pattern_index('GATATATGCATATACTT','ATAT')"
   ]
  },
  {
   "cell_type": "markdown",
   "metadata": {
    "collapsed": false
   },
   "source": [
    "Probability of a pattern in a string."
   ]
  },
  {
   "cell_type": "code",
   "execution_count": 33,
   "metadata": {},
   "outputs": [
    {
     "name": "stdout",
     "output_type": "stream",
     "text": [
      "3.814697265625e-06\n"
     ]
    }
   ],
   "source": [
    "print((1/4)**9)"
   ]
  },
  {
   "cell_type": "code",
   "execution_count": 2,
   "metadata": {},
   "outputs": [
    {
     "name": "stdout",
     "output_type": "stream",
     "text": [
      "33554432 combos, 33554406 counts, 0.9999992251396179 proportion\n"
     ]
    }
   ],
   "source": [
    "pr(25, 2, '01', 1)"
   ]
  },
  {
   "cell_type": "markdown",
   "metadata": {},
   "source": [
    "33554432 combos, 33554406 counts, 0.9999992251396179 proportion"
   ]
  },
  {
   "cell_type": "code",
   "execution_count": 4,
   "metadata": {},
   "outputs": [
    {
     "name": "stdout",
     "output_type": "stream",
     "text": [
      "2187 combos, 246 counts, 0.11248285322359397 proportion\n"
     ]
    }
   ],
   "source": [
    "pr(7, 3, '01', 2)"
   ]
  },
  {
   "cell_type": "code",
   "execution_count": 7,
   "metadata": {},
   "outputs": [
    {
     "name": "stdout",
     "output_type": "stream",
     "text": [
      "60039 98409 129189 152283 152354 152411 163207 197028 200160 357976 376771 392723 532935 600085 622755 1065555\n"
     ]
    }
   ],
   "source": [
    "vcollist = pattern_index('CTTGATCAT', Vcholerae)\n",
    "print(' '.join(str(x) for x in vcollist))"
   ]
  },
  {
   "cell_type": "code",
   "execution_count": 1,
   "metadata": {},
   "outputs": [],
   "source": [
    "from src.ori import pattern_index"
   ]
  },
  {
   "cell_type": "code",
   "execution_count": 8,
   "metadata": {},
   "outputs": [
    {
     "name": "stdout",
     "output_type": "stream",
     "text": [
      "[116556, 149355, 151913, 152013, 152394, 186189, 194276, 200076, 224527, 307692, 479770, 610980, 653338, 679985, 768828, 878903, 985368]\n"
     ]
    }
   ],
   "source": [
    "print(pattern_index('ATGATCAAG', Vcholerae))"
   ]
  },
  {
   "cell_type": "code",
   "execution_count": 9,
   "metadata": {},
   "outputs": [
    {
     "data": {
      "text/plain": [
       "1108251"
      ]
     },
     "execution_count": 9,
     "metadata": {},
     "output_type": "execute_result"
    }
   ],
   "source": [
    "len(Vcholerae)"
   ]
  },
  {
   "cell_type": "code",
   "execution_count": 4,
   "metadata": {},
   "outputs": [],
   "source": [
    "with open('datasets/E_coli.txt') as file:\n",
    "    Ecoli = file.read()"
   ]
  },
  {
   "cell_type": "code",
   "execution_count": 6,
   "metadata": {},
   "outputs": [],
   "source": [
    "from src.ori import ClumpFinder"
   ]
  },
  {
   "cell_type": "code",
   "execution_count": 7,
   "metadata": {},
   "outputs": [],
   "source": [
    "cfset = ClumpFinder(Ecoli,500,9,3)"
   ]
  },
  {
   "cell_type": "code",
   "execution_count": 8,
   "metadata": {},
   "outputs": [
    {
     "data": {
      "text/plain": [
       "1904"
      ]
     },
     "execution_count": 8,
     "metadata": {},
     "output_type": "execute_result"
    }
   ],
   "source": [
    "len(cfset)"
   ]
  },
  {
   "cell_type": "code",
   "execution_count": 11,
   "metadata": {},
   "outputs": [],
   "source": [
    "from src.ori import BetterClumpFinder"
   ]
  },
  {
   "cell_type": "code",
   "execution_count": 12,
   "metadata": {},
   "outputs": [
    {
     "name": "stdout",
     "output_type": "stream",
     "text": [
      "1904\n"
     ]
    }
   ],
   "source": [
    "print(BetterClumpFinder(Ecoli, 9, 500, 3))"
   ]
  },
  {
   "cell_type": "code",
   "execution_count": 10,
   "metadata": {},
   "outputs": [],
   "source": [
    "from src.dna import skew, min_skew"
   ]
  },
  {
   "cell_type": "code",
   "execution_count": 8,
   "metadata": {},
   "outputs": [],
   "source": [
    "skewlist = skew('GAGCCACCGCGATA')"
   ]
  },
  {
   "cell_type": "code",
   "execution_count": 9,
   "metadata": {},
   "outputs": [
    {
     "name": "stdout",
     "output_type": "stream",
     "text": [
      "0 1 1 2 1 0 0 -1 -2 -1 -2 -1 -1 -1 -1\n"
     ]
    }
   ],
   "source": [
    "print(' '.join(str(x) for x in skewlist))"
   ]
  },
  {
   "cell_type": "code",
   "execution_count": 11,
   "metadata": {},
   "outputs": [
    {
     "name": "stdout",
     "output_type": "stream",
     "text": [
      "11 24 \n",
      "\n",
      "None\n"
     ]
    }
   ],
   "source": [
    "print(min_skew('TAAAGACTGCCGAGAGGCCAACACGAGTGCTAGAACGAGGGGCGTAAACGCGGGTCCGAT'))"
   ]
  }
 ],
 "metadata": {
  "kernelspec": {
   "display_name": "base",
   "language": "python",
   "name": "python3"
  },
  "language_info": {
   "codemirror_mode": {
    "name": "ipython",
    "version": 3
   },
   "file_extension": ".py",
   "mimetype": "text/x-python",
   "name": "python",
   "nbconvert_exporter": "python",
   "pygments_lexer": "ipython3",
   "version": "3.11.5"
  }
 },
 "nbformat": 4,
 "nbformat_minor": 0
}
